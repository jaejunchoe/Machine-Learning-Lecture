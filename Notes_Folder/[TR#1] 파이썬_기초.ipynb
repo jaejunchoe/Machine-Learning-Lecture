{
  "nbformat": 4,
  "nbformat_minor": 0,
  "metadata": {
    "colab": {
      "private_outputs": true,
      "provenance": []
    },
    "kernelspec": {
      "name": "python3",
      "display_name": "Python 3"
    },
    "language_info": {
      "name": "python"
    },
    "accelerator": "GPU",
    "gpuClass": "standard"
  },
  "cells": [
    {
      "cell_type": "code",
      "execution_count": null,
      "metadata": {
        "id": "zefSuuwtLfVw"
      },
      "outputs": [],
      "source": [
        "# 1.1\n",
        "list_example=['A','B','C']\n",
        "list_example.append('D')\n",
        "print(list_example,'\\n')\n",
        "\n",
        "del list_example[1]\n",
        "print(list_example,'\\n')\n",
        "\n",
        "# 1.2\n",
        "List_temp=['machine','learning','artificial','intelligence','deep']\n",
        "for temp in List_temp:\n",
        "    print(temp,len(temp),'\\n')\n",
        "\n",
        "# 1.3\n",
        "Price_list=[200,400,100,300]\n",
        "sum=0\n",
        "for temp in (range(4)):\n",
        "    sum=sum+Price_list[temp]\n",
        "    print(sum,'\\n')\n",
        "\n",
        "# 1.4\n",
        "def score(i):\n",
        " if 90<=i<=100:\n",
        "    print('A')\n",
        " elif 79<i<90:\n",
        "    print('B')\n",
        " elif 69<i<80:\n",
        "    print('C')\n",
        " else:\n",
        "    print('D')\n",
        "\n",
        "score(90)"
      ]
    },
    {
      "cell_type": "code",
      "source": [
        "# 2.0\n",
        "import numpy as np\n",
        "\n",
        "# 2.1\n",
        "temp_array=np.arange(10)\n",
        "array = np.array(temp_array)\n",
        "\n",
        "# 2.2\n",
        "array = temp_array.reshape(5,2)\n",
        "\n",
        "# 2.3\n",
        "print(array[1,1],'\\n')\n",
        "\n",
        "# 2.4\n",
        "find_number_5=(array>5)\n",
        "print(array[find_number_5],'\\n')\n",
        "\n",
        "# 2.5\n",
        "find_greater_5=((array<8) & (array>3))\n",
        "print(find_greater_5,'\\n')\n",
        "\n",
        "# 2.6\n",
        "random_array=np.random.randn(3,2)\n",
        "print(random_array,'\\n')\n",
        "\n",
        "# 2.7\n",
        "print(np.mean(random_array,axis=0),'\\n')\n",
        "\n",
        "# 2.8\n",
        "print(np.mean(random_array,axis=1),'\\n')"
      ],
      "metadata": {
        "id": "YLpIRSfIbl4E"
      },
      "execution_count": null,
      "outputs": []
    },
    {
      "cell_type": "code",
      "source": [
        "# 3.0\n",
        "import pandas as pd\n",
        "\n",
        "# 3.1\n",
        "data = {'year': [2021, 2022, 2023],'points': [70, 80, 90]}\n",
        "df=pd.DataFrame(data)\n",
        "\n",
        "# 3.2\n",
        "df['price']=[100,200,300]\n",
        "print(df,'\\n')\n",
        "\n",
        "# 3.3\n",
        "print(df.iloc[0],'\\n')\n",
        "\n",
        "# 3.4\n",
        "print(df.iloc[:,1],'\\n')\n",
        "\n",
        "# 3.5\n",
        "print(df.loc[df['year']>2022,'price'],'\\n')"
      ],
      "metadata": {
        "id": "7bVS1F7GvQci"
      },
      "execution_count": null,
      "outputs": []
    }
  ]
}