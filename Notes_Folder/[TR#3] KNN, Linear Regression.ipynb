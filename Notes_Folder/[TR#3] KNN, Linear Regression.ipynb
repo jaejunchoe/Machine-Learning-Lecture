{
  "nbformat": 4,
  "nbformat_minor": 0,
  "metadata": {
    "colab": {
      "private_outputs": true,
      "provenance": []
    },
    "kernelspec": {
      "name": "python3",
      "display_name": "Python 3"
    },
    "language_info": {
      "name": "python"
    }
  },
  "cells": [
    {
      "cell_type": "code",
      "execution_count": null,
      "metadata": {
        "id": "SQnufs0KKh9G"
      },
      "outputs": [],
      "source": [
        "# ----------------------------------------------------------------------------------------------------------------------------------------------------------------------- #\n",
        "# TR#3-1: 수행한 실습결과\n",
        "\n",
        "# 1\n",
        "import numpy as np\n",
        "import pandas as pd\n",
        "import io\n",
        "\n",
        "from google.colab import drive\n",
        "drive.mount('content')\n",
        "filename = '/content/hyundai_revised.csv'\n",
        "df = pd.read_csv(filename)"
      ]
    },
    {
      "cell_type": "code",
      "source": [
        "# 2.1\n",
        "print(df.head(15))\n",
        "\n",
        "# 2.2\n",
        "print(df.info(), '\\n')\n",
        "# price와 mfg에 문제가 있음 4860에 안 맞음\n",
        "\n",
        "# 2.3\n",
        "print(df.describe(), '\\n')\n",
        "\n",
        "# 2.4.1\n",
        "df_temp = df.dropna(subset=[\"price\"])\n",
        "print(df_temp.info, '\\n')\n",
        "\n",
        "# 2.4.2\n",
        "print(df_temp.head(30))\n",
        "\n",
        "# 2.4.3\n",
        "mean = df_temp[\"mpg\"].mean()\n",
        "print(mean, '\\n')\n",
        "df_temp1 = df_temp.fillna(mean)\n",
        "print(df_temp1.head(30), '\\n')\n",
        "df = df_temp1\n"
      ],
      "metadata": {
        "id": "nRHXZRRRVLMV"
      },
      "execution_count": null,
      "outputs": []
    },
    {
      "cell_type": "code",
      "source": [
        "# 3.1\n",
        "print(df['model'].unique(), '\\n')\n",
        "\n",
        "# 3.2\n",
        "print(df['model'].value_counts(),'\\n')\n",
        "\n",
        "# 3.3\n",
        "df2 = df[df['model'].str.contains('Tucson|Santa Fe')]\n",
        "print(df2, '\\n')\n",
        "\n",
        "# df2 = df.loc[(df['model'] == \"Tucson\") | (df['model'] == \"Santa Fe\"), :]\n",
        "# df2.info()\n",
        "\n",
        "# 3.4\n",
        "print(df2.head(10))\n",
        "\n",
        "# 3.5\n",
        "df2=df2.reset_index(drop=True)\n",
        "\n",
        "# 3.6\n",
        "df2.head(10)"
      ],
      "metadata": {
        "id": "7kX4IKDiYYxT"
      },
      "execution_count": null,
      "outputs": []
    },
    {
      "cell_type": "code",
      "source": [
        "# 4.1\n",
        "df2_ind = df2.loc[:, ['engineSize', 'tax', 'mpg']]\n",
        "\n",
        "# 4.2\n",
        "from sklearn.preprocessing import StandardScaler, MinMaxScaler\n",
        "\n",
        "# 4.3\n",
        "ss_scaler = StandardScaler()\n",
        "mm_scaler = MinMaxScaler()\n",
        "\n",
        "# 4.4\n",
        "ss_scaler.fit(df2_ind)\n",
        "ss_scaled = ss_scaler.transform(df2_ind)\n",
        "\n",
        "# 4.5\n",
        "mm_scaled = mm_scaler.fit_transform(df2_ind)\n",
        "\n",
        "# 4.6\n",
        "df2_ind_ss = pd.DataFrame(ss_scaled, columns=df2_ind.columns, index= df2_ind.index)\n",
        "df2_ind_mm = pd.DataFrame(mm_scaled, columns=df2_ind.columns, index= df2_ind.index)\n",
        "print(df2_ind_ss)\n",
        "print(df2_ind_mm)\n",
        "\n",
        "# 4.7\n",
        "df2_dep = df2[\"price\"] # 종속변수로 지정하여 저장하는 코드란\n",
        "\n"
      ],
      "metadata": {
        "id": "ogMgtpPucknw"
      },
      "execution_count": null,
      "outputs": []
    },
    {
      "cell_type": "code",
      "source": [
        "# 5주차 시작\n",
        "# 1.1\n",
        "# 1.2\n",
        "from sklearn.model_selection import train_test_split\n",
        "train_input, test_input, train_target, test_target = train_test_split(df2_ind_ss, df2_dep, test_size=0.3, random_state=20)\n",
        "\n",
        "# 1.3\n",
        "print(train_input.info())\n",
        "print(test_input.info())"
      ],
      "metadata": {
        "id": "tdZvgFSAURqD"
      },
      "execution_count": null,
      "outputs": []
    },
    {
      "cell_type": "code",
      "source": [
        "# 2.1.1\n",
        "i_train =  train_input[\"engineSize\"]\n",
        "\n",
        "# 2.1.2\n",
        "from sklearn.neighbors import KNeighborsRegressor\n"
      ],
      "metadata": {
        "id": "0UC9AyUG3kMg"
      },
      "execution_count": null,
      "outputs": []
    },
    {
      "cell_type": "code",
      "source": [
        "# 2.1.3\n",
        "clf = KNeighborsRegressor(n_neighbors=3)\n",
        "clf.fit(i_train, train_target)"
      ],
      "metadata": {
        "id": "oHjJ2DVcqF6q"
      },
      "execution_count": null,
      "outputs": []
    },
    {
      "cell_type": "code",
      "source": [
        "# 2.1.4\n",
        "X_train= i_train.values.reshape(-1,1)\n",
        "#Y_train = train_target.values.reshape(-1,1)\n",
        "#Y_test = test_target.values.reshape(-1,1)\n",
        "\n",
        "clf.fit(X_train, train_target)\n",
        "\n",
        "# 2.1.5\n",
        "i_test = test_input[\"engineSize\"]\n",
        "X_test = i_test.values.reshape(-1,1)\n",
        "\n",
        "y_test_hat = clf.predict(X_test)\n",
        "\n",
        "# 2.1.6\n",
        "\n",
        "print(y_test_hat[0:10])\n",
        "print(test_target[0:10])\n"
      ],
      "metadata": {
        "id": "q1JNGypBqJLF"
      },
      "execution_count": null,
      "outputs": []
    },
    {
      "cell_type": "code",
      "source": [
        "# 2.1.7\n",
        "from sklearn.neighbors import KNeighborsRegressor\n",
        "clf = KNeighborsRegressor(n_neighbors=7)\n",
        "\n",
        "X_train_1= i_train.values.reshape(-1,1)\n",
        "#Y_train_1 = train_target.values.reshape(-1,1)\n",
        "#Y_test_1 = test_target.values.reshape(-1,1)\n",
        "\n",
        "clf.fit(X_train_1, train_target)\n",
        "\n",
        "i_test_1 =  test_input[[\"engineSize\", \"tax\", \"mpg\"]]\n",
        "X_test_1 = i_test_1.values.reshape(-1,3)\n",
        "\n",
        "\n",
        "y_test_hat_1 = clf.predict(X_train_1)\n",
        "\n",
        "print(y_test_hat_1[0:10])\n",
        "print(test_target[0:10])\n",
        "\n"
      ],
      "metadata": {
        "id": "4gBGwamIYl8M"
      },
      "execution_count": null,
      "outputs": []
    },
    {
      "cell_type": "code",
      "source": [
        "# 2.2\n",
        "from sklearn.neighbors import KNeighborsRegressor\n",
        "clf_2 = KNeighborsRegressor(n_neighbors=7)\n",
        "\n",
        "X_train_2 = train_input.values.reshape(-1,3)\n",
        "X_test_2 = test_input.values.reshape(-1,3)\n",
        "\n",
        "clf_2.fit(X_train_2, train_target)\n",
        "\n",
        "y_test_hat_2 = clf_2.predict(X_train_2)\n",
        "\n",
        "print(y_test_hat_2[0:10])\n",
        "print(test_target[0:10])"
      ],
      "metadata": {
        "id": "RgWc3lieq6l2"
      },
      "execution_count": null,
      "outputs": []
    },
    {
      "cell_type": "code",
      "source": [
        "# 3.1.1\n",
        "I_train =  train_input[\"engineSize\"]\n",
        "I_test =  test_input[\"engineSize\"]\n",
        "\n",
        "# 3.1.2\n",
        "from sklearn.linear_model import LinearRegression\n",
        "\n",
        "# 3.1.3\n",
        "I_train_LR = I_train.values.reshape(-1,1)\n",
        "I_test_LR = I_test.values.reshape(-1,1)\n",
        "\n",
        "reg = LinearRegression()\n",
        "reg.fit(I_train_LR, train_target)\n",
        "\n",
        "# 3.1.3\n",
        "I_train_LR = I_train.values.reshape(-1,1)\n",
        "I_test_LR = I_test.values.reshape(-1,1)\n",
        "\n",
        "reg_LR = LinearRegression()\n",
        "reg_LR.fit(I_train_LR, train_target)\n",
        "\n",
        "# 3.1.4\n",
        "y_test_hat_LR = reg_LR.predict(I_test_LR)\n",
        "\n",
        "print(y_test_hat_LR)\n",
        "print(test_target)\n",
        "\n",
        "# 3.1.5\n",
        "print(y_test_hat_LR[0:10])\n",
        "print(test_target[0:10])\n",
        "\n",
        "# 3.2.1\n",
        "\n",
        "I_train_LR2 = train_input.values.reshape(-1,3)\n",
        "I_test_LR2 = test_input.values.reshape(-1,3)\n",
        "\n",
        "reg_LR.fit(I_train_LR2, train_target)\n",
        "\n",
        "y_test_hat_LR2 = reg_LR.predict(I_train_LR2)\n",
        "\n",
        "print(y_test_hat_LR2[0:10])\n",
        "print(test_target[0:10])\n",
        "\n",
        "# 3.2.2\n",
        "coef = reg_LR.coef_\n",
        "bias = reg_LR.intercept_\n",
        "\n",
        "print('w1', coef)\n",
        "print('w0', bias)"
      ],
      "metadata": {
        "id": "InQfzoD7xOT4"
      },
      "execution_count": null,
      "outputs": []
    },
    {
      "cell_type": "code",
      "source": [
        "# ----------------------------------------------------------------------------------------------------------------------------------------------------------------------- #\n",
        "# TR#3-2: 새로운 데이터 분석\n",
        "\n",
        "# 1\n",
        "import numpy as np\n",
        "import pandas as pd\n",
        "import io\n",
        "\n",
        "from google.colab import drive\n",
        "drive.mount('content')\n",
        "filename = '/content/transportation_samples.csv'\n",
        "df_TR3=pd.read_csv(filename)\n",
        "\n",
        "# 2\n",
        "print(df_TR3.info(), '\\n')\n",
        "# Max_speed와 Mileage에 문제가 있음\n",
        "\n",
        "print(df_TR3.describe(), '\\n')\n",
        "\n",
        "# 3\n",
        "#3-1\n",
        "df_TR3_temp = df_TR3[(df_TR3['Duration']>0) & (df_TR3['Average_speed']>0) & (df_TR3['R_acc']>=0) & (df_TR3['R_lturn']>=0)]\n",
        "print(df_TR3_temp.describe())\n",
        "\n",
        "# 3-2\n",
        "from sklearn.impute import SimpleImputer\n",
        "df_TR3_deltemp = df_TR3_temp.drop('Max_speed', axis=1)\n",
        "\n",
        "imputer = SimpleImputer(strategy=\"median\")\n",
        "Using_median_Mileage = df_TR3_deltemp['Mileage'].values.reshape(-1,1)\n",
        "imputer.fit(Using_median_Mileage)\n",
        "X = imputer.transform(Using_median_Mileage)\n",
        "df_TR3_deltemp['Mileage']=X\n",
        "print(df_TR3_deltemp)\n",
        "\n",
        "# 4\n",
        "df_TR3_deltemp_ind = df_TR3_deltemp.drop('risky_driving_score', axis=1)\n",
        "df_TR3_deltemp_labels = df_TR3_deltemp['risky_driving_score']\n",
        "\n",
        "from sklearn.model_selection import train_test_split\n",
        "train_input, test_input, train_target, test_target = train_test_split(df_TR3_deltemp_ind, df_TR3_deltemp_labels, test_size = 0.3, random_state=20)\n",
        "\n",
        "# 5\n",
        "X_train = train_input[['Overspeeding', 'R_acc', 'R_lturn']]\n",
        "X_test = test_input[['Overspeeding', 'R_acc', 'R_lturn']]\n",
        "\n",
        "from sklearn.preprocessing import MinMaxScaler\n",
        "mm_scaler = MinMaxScaler()\n",
        "mm_scaler.fit(X_train)\n",
        "mm_scaled_X_train = mm_scaler.transform(X_train)\n",
        "mm_scaled_X_test = mm_scaler.transform(X_test)\n",
        "\n",
        "# 6\n",
        "from sklearn.linear_model import LinearRegression\n",
        "reg_TR3 = LinearRegression()\n",
        "reg_TR3.fit(mm_scaled_X_train, train_target)\n",
        "\n",
        "from sklearn.metrics import r2_score\n",
        "y_train_hat = reg_TR3.predict(mm_scaled_X_train)\n",
        "y_test_hat = reg_TR3.predict(mm_scaled_X_test)\n",
        "\n",
        "print('train_R2_square :', r2_score(train_target, y_train_hat))\n",
        "print('test_R2_square :', r2_score(test_target, y_test_hat))\n"
      ],
      "metadata": {
        "id": "KTJCzDjgzydY"
      },
      "execution_count": null,
      "outputs": []
    }
  ]
}